{
 "cells": [
  {
   "cell_type": "code",
   "execution_count": 2,
   "id": "38d8ee48-8ee2-4f7c-891f-95c697b0e2ce",
   "metadata": {},
   "outputs": [
    {
     "name": "stdout",
     "output_type": "stream",
     "text": [
      "Collecting folium\n",
      "  Downloading folium-0.16.0-py2.py3-none-any.whl.metadata (3.6 kB)\n",
      "Collecting branca>=0.6.0 (from folium)\n",
      "  Downloading branca-0.7.1-py3-none-any.whl.metadata (1.5 kB)\n",
      "Requirement already satisfied: jinja2>=2.9 in /Users/yuniktamrakar/.pyenv/versions/3.10.3/lib/python3.10/site-packages (from folium) (3.1.2)\n",
      "Requirement already satisfied: numpy in /Users/yuniktamrakar/.pyenv/versions/3.10.3/lib/python3.10/site-packages (from folium) (1.24.3)\n",
      "Requirement already satisfied: requests in /Users/yuniktamrakar/.pyenv/versions/3.10.3/lib/python3.10/site-packages (from folium) (2.31.0)\n",
      "Requirement already satisfied: xyzservices in /Users/yuniktamrakar/.pyenv/versions/3.10.3/lib/python3.10/site-packages (from folium) (2023.10.1)\n",
      "Requirement already satisfied: MarkupSafe>=2.0 in /Users/yuniktamrakar/.pyenv/versions/3.10.3/lib/python3.10/site-packages (from jinja2>=2.9->folium) (2.1.3)\n",
      "Requirement already satisfied: charset-normalizer<4,>=2 in /Users/yuniktamrakar/.pyenv/versions/3.10.3/lib/python3.10/site-packages (from requests->folium) (3.2.0)\n",
      "Requirement already satisfied: idna<4,>=2.5 in /Users/yuniktamrakar/.pyenv/versions/3.10.3/lib/python3.10/site-packages (from requests->folium) (3.4)\n",
      "Requirement already satisfied: urllib3<3,>=1.21.1 in /Users/yuniktamrakar/.pyenv/versions/3.10.3/lib/python3.10/site-packages (from requests->folium) (1.26.16)\n",
      "Requirement already satisfied: certifi>=2017.4.17 in /Users/yuniktamrakar/.pyenv/versions/3.10.3/lib/python3.10/site-packages (from requests->folium) (2023.7.22)\n",
      "Downloading folium-0.16.0-py2.py3-none-any.whl (100 kB)\n",
      "\u001b[2K   \u001b[90m━━━━━━━━━━━━━━━━━━━━━━━━━━━━━━━━━━━━━━━━\u001b[0m \u001b[32m100.0/100.0 kB\u001b[0m \u001b[31m1.2 MB/s\u001b[0m eta \u001b[36m0:00:00\u001b[0m \u001b[36m0:00:01\u001b[0m\n",
      "\u001b[?25hDownloading branca-0.7.1-py3-none-any.whl (25 kB)\n",
      "Installing collected packages: branca, folium\n",
      "Successfully installed branca-0.7.1 folium-0.16.0\n",
      "\n",
      "\u001b[1m[\u001b[0m\u001b[34;49mnotice\u001b[0m\u001b[1;39;49m]\u001b[0m\u001b[39;49m A new release of pip is available: \u001b[0m\u001b[31;49m23.3.1\u001b[0m\u001b[39;49m -> \u001b[0m\u001b[32;49m24.0\u001b[0m\n",
      "\u001b[1m[\u001b[0m\u001b[34;49mnotice\u001b[0m\u001b[1;39;49m]\u001b[0m\u001b[39;49m To update, run: \u001b[0m\u001b[32;49mpip install --upgrade pip\u001b[0m\n"
     ]
    }
   ],
   "source": [
    "!pip install folium"
   ]
  },
  {
   "cell_type": "code",
   "execution_count": 20,
   "id": "34775bf8-f88f-4c48-8316-fc33ef34b9d6",
   "metadata": {},
   "outputs": [],
   "source": [
    "import pandas as pd\n",
    "import folium\n",
    "from folium.plugins import MarkerCluster\n",
    "import numpy as np\n",
    "import random\n"
   ]
  },
  {
   "cell_type": "code",
   "execution_count": 52,
   "id": "7dbfff3c-f0f8-4919-b99e-875b3da28a2a",
   "metadata": {},
   "outputs": [
    {
     "name": "stdout",
     "output_type": "stream",
     "text": [
      "Total rows: 7728394\n"
     ]
    }
   ],
   "source": [
    "file_path = \"datasets/US_Accidents_March23.csv\"\n",
    "df = pd.read_csv(file_path)\n",
    "\n",
    "print(f\"Total rows: {df.shape[0]}\")"
   ]
  },
  {
   "cell_type": "code",
   "execution_count": 40,
   "id": "b91cdc13-a1db-4358-a54f-0e064af8634d",
   "metadata": {},
   "outputs": [
    {
     "name": "stdout",
     "output_type": "stream",
     "text": [
      "<class 'pandas.core.frame.DataFrame'>\n",
      "RangeIndex: 7728394 entries, 0 to 7728393\n",
      "Data columns (total 47 columns):\n",
      " #   Column                 Dtype         \n",
      "---  ------                 -----         \n",
      " 0   ID                     object        \n",
      " 1   Source                 object        \n",
      " 2   Severity               int64         \n",
      " 3   Start_Time             datetime64[ns]\n",
      " 4   End_Time               object        \n",
      " 5   Start_Lat              float64       \n",
      " 6   Start_Lng              float64       \n",
      " 7   End_Lat                float64       \n",
      " 8   End_Lng                float64       \n",
      " 9   Distance(mi)           float64       \n",
      " 10  Description            object        \n",
      " 11  Street                 object        \n",
      " 12  City                   object        \n",
      " 13  County                 object        \n",
      " 14  State                  object        \n",
      " 15  Zipcode                object        \n",
      " 16  Country                object        \n",
      " 17  Timezone               object        \n",
      " 18  Airport_Code           object        \n",
      " 19  Weather_Timestamp      object        \n",
      " 20  Temperature(F)         float64       \n",
      " 21  Wind_Chill(F)          float64       \n",
      " 22  Humidity(%)            float64       \n",
      " 23  Pressure(in)           float64       \n",
      " 24  Visibility(mi)         float64       \n",
      " 25  Wind_Direction         object        \n",
      " 26  Wind_Speed(mph)        float64       \n",
      " 27  Precipitation(in)      float64       \n",
      " 28  Weather_Condition      object        \n",
      " 29  Amenity                bool          \n",
      " 30  Bump                   bool          \n",
      " 31  Crossing               bool          \n",
      " 32  Give_Way               bool          \n",
      " 33  Junction               bool          \n",
      " 34  No_Exit                bool          \n",
      " 35  Railway                bool          \n",
      " 36  Roundabout             bool          \n",
      " 37  Station                bool          \n",
      " 38  Stop                   bool          \n",
      " 39  Traffic_Calming        bool          \n",
      " 40  Traffic_Signal         bool          \n",
      " 41  Turning_Loop           bool          \n",
      " 42  Sunrise_Sunset         object        \n",
      " 43  Civil_Twilight         object        \n",
      " 44  Nautical_Twilight      object        \n",
      " 45  Astronomical_Twilight  object        \n",
      " 46  year                   float64       \n",
      "dtypes: bool(13), datetime64[ns](1), float64(13), int64(1), object(19)\n",
      "memory usage: 2.1+ GB\n"
     ]
    }
   ],
   "source": [
    "df.info()"
   ]
  },
  {
   "cell_type": "code",
   "execution_count": 53,
   "id": "167ea370-8ce5-47b8-81cd-db85ada62488",
   "metadata": {},
   "outputs": [],
   "source": [
    "df['Start_Time'] = pd.to_datetime(df['Start_Time'], errors='coerce')\n"
   ]
  },
  {
   "cell_type": "code",
   "execution_count": 54,
   "id": "b3db7113-c9a1-4064-8f18-78e63d7a7f40",
   "metadata": {},
   "outputs": [
    {
     "data": {
      "text/plain": [
       "Timestamp('2016-02-08 05:46:00')"
      ]
     },
     "execution_count": 54,
     "metadata": {},
     "output_type": "execute_result"
    }
   ],
   "source": [
    "df.Start_Time[0]"
   ]
  },
  {
   "cell_type": "code",
   "execution_count": 56,
   "id": "ed9fb810-8c55-4915-9b48-f9a2fbcfed91",
   "metadata": {},
   "outputs": [],
   "source": [
    "import seaborn as sns"
   ]
  },
  {
   "cell_type": "code",
   "execution_count": 59,
   "id": "a0421db5-ce92-4504-84af-beaba16ee707",
   "metadata": {},
   "outputs": [
    {
     "name": "stderr",
     "output_type": "stream",
     "text": [
      "/Users/yuniktamrakar/.local/lib/python3.10/site-packages/seaborn/axisgrid.py:123: UserWarning: The figure layout has changed to tight\n",
      "  self._figure.tight_layout(*args, **kwargs)\n"
     ]
    },
    {
     "data": {
      "image/png": "[encoded data removed]",
      "text/plain": [
       "<Figure size 500x500 with 1 Axes>"
      ]
     },
     "metadata": {},
     "output_type": "display_data"
    }
   ],
   "source": [
    "sns.displot(df.Start_Time.dt.hour, bins=24, kde=False, stat='density')\n",
    "\n",
    "# Adding additional plot customizations\n",
    "sns.set_style('whitegrid')  # Example: settin"
   ]
  },
  {
   "cell_type": "code",
   "execution_count": 60,
   "id": "6a8284f8-48b9-46fb-a532-ec03d9395a39",
   "metadata": {},
   "outputs": [
    {
     "name": "stderr",
     "output_type": "stream",
     "text": [
      "/Users/yuniktamrakar/.local/lib/python3.10/site-packages/seaborn/axisgrid.py:123: UserWarning: The figure layout has changed to tight\n",
      "  self._figure.tight_layout(*args, **kwargs)\n"
     ]
    },
    {
     "data": {
      "text/plain": [
       "<seaborn.axisgrid.FacetGrid at 0x1646a7e80>"
      ]
     },
     "execution_count": 60,
     "metadata": {},
     "output_type": "execute_result"
    },
    {
     "data": {
      "image/png": "[encoded data removed]",
      "text/plain": [
       "<Figure size 500x500 with 1 Axes>"
      ]
     },
     "metadata": {},
     "output_type": "display_data"
    }
   ],
   "source": [
    "sns.displot(df.Start_Time.dt.dayofweek, bins=24, kde=False, stat='density')"
   ]
  },
  {
   "cell_type": "code",
   "execution_count": 61,
   "id": "e00dcc82-fd81-4ead-ad3c-7620f9ff9fcc",
   "metadata": {},
   "outputs": [
    {
     "name": "stderr",
     "output_type": "stream",
     "text": [
      "/Users/yuniktamrakar/.local/lib/python3.10/site-packages/seaborn/axisgrid.py:123: UserWarning: The figure layout has changed to tight\n",
      "  self._figure.tight_layout(*args, **kwargs)\n"
     ]
    },
    {
     "data": {
      "image/png": "[encoded data removed]",
      "text/plain": [
       "<Figure size 500x500 with 1 Axes>"
      ]
     },
     "metadata": {},
     "output_type": "display_data"
    }
   ],
   "source": [
    "sns.displot(df.Start_Time.dt.year, bins=24, kde=False, stat='density')\n",
    "\n",
    "# Adding additional plot customizations\n",
    "sns.set_style('whitegrid')  # Example: settin"
   ]
  },
  {
   "cell_type": "code",
   "execution_count": 72,
   "id": "6b0824ab-eb4e-4f25-8e55-0ff32e3899f9",
   "metadata": {},
   "outputs": [],
   "source": [
    "# Filter the DataFrame for rows where the year is 2023\n",
    "df_2021 = df[df.Start_Time.dt.year == 2021]\n",
    "\n",
    "# df_2016 now contains only the rows from the year 2023\n"
   ]
  },
  {
   "cell_type": "code",
   "execution_count": 73,
   "id": "867f4969-1a46-4e9c-b976-64e8643991d5",
   "metadata": {},
   "outputs": [
    {
     "data": {
      "text/plain": [
       "1412433"
      ]
     },
     "execution_count": 73,
     "metadata": {},
     "output_type": "execute_result"
    }
   ],
   "source": [
    "df_2021.shape[0]"
   ]
  },
  {
   "cell_type": "code",
   "execution_count": 41,
   "id": "f708b371-fe03-453d-951b-33c438438c16",
   "metadata": {},
   "outputs": [
    {
     "data": {
      "text/html": [
       "<div>\n",
       "<style scoped>\n",
       "    .dataframe tbody tr th:only-of-type {\n",
       "        vertical-align: middle;\n",
       "    }\n",
       "\n",
       "    .dataframe tbody tr th {\n",
       "        vertical-align: top;\n",
       "    }\n",
       "\n",
       "    .dataframe thead th {\n",
       "        text-align: right;\n",
       "    }\n",
       "</style>\n",
       "<table border=\"1\" class=\"dataframe\">\n",
       "  <thead>\n",
       "    <tr style=\"text-align: right;\">\n",
       "      <th></th>\n",
       "      <th>ID</th>\n",
       "      <th>Source</th>\n",
       "      <th>Severity</th>\n",
       "      <th>Start_Time</th>\n",
       "      <th>End_Time</th>\n",
       "      <th>Start_Lat</th>\n",
       "      <th>Start_Lng</th>\n",
       "      <th>End_Lat</th>\n",
       "      <th>End_Lng</th>\n",
       "      <th>Distance(mi)</th>\n",
       "      <th>...</th>\n",
       "      <th>Roundabout</th>\n",
       "      <th>Station</th>\n",
       "      <th>Stop</th>\n",
       "      <th>Traffic_Calming</th>\n",
       "      <th>Traffic_Signal</th>\n",
       "      <th>Turning_Loop</th>\n",
       "      <th>Sunrise_Sunset</th>\n",
       "      <th>Civil_Twilight</th>\n",
       "      <th>Nautical_Twilight</th>\n",
       "      <th>Astronomical_Twilight</th>\n",
       "    </tr>\n",
       "  </thead>\n",
       "  <tbody>\n",
       "    <tr>\n",
       "      <th>0</th>\n",
       "      <td>A-361</td>\n",
       "      <td>Source3</td>\n",
       "      <td>3</td>\n",
       "      <td>2016-02-24 06:53:32</td>\n",
       "      <td>2016-02-24 07:23:32</td>\n",
       "      <td>39.788414</td>\n",
       "      <td>-84.183693</td>\n",
       "      <td>NaN</td>\n",
       "      <td>NaN</td>\n",
       "      <td>0.94</td>\n",
       "      <td>...</td>\n",
       "      <td>False</td>\n",
       "      <td>False</td>\n",
       "      <td>False</td>\n",
       "      <td>False</td>\n",
       "      <td>False</td>\n",
       "      <td>False</td>\n",
       "      <td>Night</td>\n",
       "      <td>Day</td>\n",
       "      <td>Day</td>\n",
       "      <td>Day</td>\n",
       "    </tr>\n",
       "    <tr>\n",
       "      <th>1</th>\n",
       "      <td>A-397</td>\n",
       "      <td>Source2</td>\n",
       "      <td>2</td>\n",
       "      <td>2016-02-25 16:17:05</td>\n",
       "      <td>2016-02-25 17:02:05</td>\n",
       "      <td>39.819839</td>\n",
       "      <td>-84.189087</td>\n",
       "      <td>NaN</td>\n",
       "      <td>NaN</td>\n",
       "      <td>0.01</td>\n",
       "      <td>...</td>\n",
       "      <td>False</td>\n",
       "      <td>False</td>\n",
       "      <td>False</td>\n",
       "      <td>False</td>\n",
       "      <td>False</td>\n",
       "      <td>False</td>\n",
       "      <td>Day</td>\n",
       "      <td>Day</td>\n",
       "      <td>Day</td>\n",
       "      <td>Day</td>\n",
       "    </tr>\n",
       "    <tr>\n",
       "      <th>2</th>\n",
       "      <td>A-671</td>\n",
       "      <td>Source2</td>\n",
       "      <td>3</td>\n",
       "      <td>2016-03-16 05:01:05</td>\n",
       "      <td>2016-03-16 05:31:05</td>\n",
       "      <td>39.788414</td>\n",
       "      <td>-84.183693</td>\n",
       "      <td>NaN</td>\n",
       "      <td>NaN</td>\n",
       "      <td>0.01</td>\n",
       "      <td>...</td>\n",
       "      <td>False</td>\n",
       "      <td>False</td>\n",
       "      <td>False</td>\n",
       "      <td>False</td>\n",
       "      <td>False</td>\n",
       "      <td>False</td>\n",
       "      <td>Night</td>\n",
       "      <td>Night</td>\n",
       "      <td>Night</td>\n",
       "      <td>Night</td>\n",
       "    </tr>\n",
       "    <tr>\n",
       "      <th>3</th>\n",
       "      <td>A-701</td>\n",
       "      <td>Source2</td>\n",
       "      <td>2</td>\n",
       "      <td>2016-03-17 09:08:21</td>\n",
       "      <td>2016-03-17 09:38:21</td>\n",
       "      <td>39.625694</td>\n",
       "      <td>-84.200005</td>\n",
       "      <td>NaN</td>\n",
       "      <td>NaN</td>\n",
       "      <td>0.01</td>\n",
       "      <td>...</td>\n",
       "      <td>False</td>\n",
       "      <td>False</td>\n",
       "      <td>False</td>\n",
       "      <td>False</td>\n",
       "      <td>True</td>\n",
       "      <td>False</td>\n",
       "      <td>Day</td>\n",
       "      <td>Day</td>\n",
       "      <td>Day</td>\n",
       "      <td>Day</td>\n",
       "    </tr>\n",
       "    <tr>\n",
       "      <th>4</th>\n",
       "      <td>A-1112</td>\n",
       "      <td>Source2</td>\n",
       "      <td>2</td>\n",
       "      <td>2016-06-24 10:50:32</td>\n",
       "      <td>2016-06-24 11:20:32</td>\n",
       "      <td>38.550610</td>\n",
       "      <td>-121.422722</td>\n",
       "      <td>NaN</td>\n",
       "      <td>NaN</td>\n",
       "      <td>0.00</td>\n",
       "      <td>...</td>\n",
       "      <td>False</td>\n",
       "      <td>False</td>\n",
       "      <td>False</td>\n",
       "      <td>False</td>\n",
       "      <td>False</td>\n",
       "      <td>False</td>\n",
       "      <td>Day</td>\n",
       "      <td>Day</td>\n",
       "      <td>Day</td>\n",
       "      <td>Day</td>\n",
       "    </tr>\n",
       "  </tbody>\n",
       "</table>\n",
       "<p>5 rows × 46 columns</p>\n",
       "</div>"
      ],
      "text/plain": [
       "       ID   Source  Severity           Start_Time             End_Time  \\\n",
       "0   A-361  Source3         3  2016-02-24 06:53:32  2016-02-24 07:23:32   \n",
       "1   A-397  Source2         2  2016-02-25 16:17:05  2016-02-25 17:02:05   \n",
       "2   A-671  Source2         3  2016-03-16 05:01:05  2016-03-16 05:31:05   \n",
       "3   A-701  Source2         2  2016-03-17 09:08:21  2016-03-17 09:38:21   \n",
       "4  A-1112  Source2         2  2016-06-24 10:50:32  2016-06-24 11:20:32   \n",
       "\n",
       "   Start_Lat   Start_Lng  End_Lat  End_Lng  Distance(mi)  ... Roundabout  \\\n",
       "0  39.788414  -84.183693      NaN      NaN          0.94  ...      False   \n",
       "1  39.819839  -84.189087      NaN      NaN          0.01  ...      False   \n",
       "2  39.788414  -84.183693      NaN      NaN          0.01  ...      False   \n",
       "3  39.625694  -84.200005      NaN      NaN          0.01  ...      False   \n",
       "4  38.550610 -121.422722      NaN      NaN          0.00  ...      False   \n",
       "\n",
       "  Station   Stop Traffic_Calming Traffic_Signal Turning_Loop Sunrise_Sunset  \\\n",
       "0   False  False           False          False        False          Night   \n",
       "1   False  False           False          False        False            Day   \n",
       "2   False  False           False          False        False          Night   \n",
       "3   False  False           False           True        False            Day   \n",
       "4   False  False           False          False        False            Day   \n",
       "\n",
       "  Civil_Twilight Nautical_Twilight Astronomical_Twilight  \n",
       "0            Day               Day                   Day  \n",
       "1            Day               Day                   Day  \n",
       "2          Night             Night                 Night  \n",
       "3            Day               Day                   Day  \n",
       "4            Day               Day                   Day  \n",
       "\n",
       "[5 rows x 46 columns]"
      ]
     },
     "execution_count": 41,
     "metadata": {},
     "output_type": "execute_result"
    }
   ],
   "source": [
    "'''file_path = \"datasets/US_Accidents_March23.csv\"\n",
    "num_rows = sum(1 for row in open(file_path, 'r', encoding='utf-8')) - 1\n",
    "sample_size = 20000\n",
    "skip_rows = sorted(random.sample(range(1, num_rows + 1), num_rows - sample_size)) \n",
    "\n",
    "\n",
    "df = pd.read_csv(file_path, skiprows=skip_rows)\n",
    "\n",
    "df.head()'''"
   ]
  },
  {
   "cell_type": "code",
   "execution_count": 74,
   "id": "f0cef0da-d5e3-402c-a11f-2066d1cf9eb8",
   "metadata": {},
   "outputs": [],
   "source": [
    "df_loc = df_2021.loc[(~df_2021.Start_Lat.isna()) & (~df_2021.Start_Lng.isna())]"
   ]
  },
  {
   "cell_type": "code",
   "execution_count": 23,
   "id": "690d4f9c-4a17-4f74-9063-fb10a7d94f69",
   "metadata": {},
   "outputs": [
    {
     "data": {
      "text/html": [
       "<div>\n",
       "<style scoped>\n",
       "    .dataframe tbody tr th:only-of-type {\n",
       "        vertical-align: middle;\n",
       "    }\n",
       "\n",
       "    .dataframe tbody tr th {\n",
       "        vertical-align: top;\n",
       "    }\n",
       "\n",
       "    .dataframe thead th {\n",
       "        text-align: right;\n",
       "    }\n",
       "</style>\n",
       "<table border=\"1\" class=\"dataframe\">\n",
       "  <thead>\n",
       "    <tr style=\"text-align: right;\">\n",
       "      <th></th>\n",
       "      <th>Start_Lat</th>\n",
       "      <th>Start_Lng</th>\n",
       "    </tr>\n",
       "  </thead>\n",
       "  <tbody>\n",
       "    <tr>\n",
       "      <th>count</th>\n",
       "      <td>20000.000000</td>\n",
       "      <td>20000.000000</td>\n",
       "    </tr>\n",
       "    <tr>\n",
       "      <th>mean</th>\n",
       "      <td>36.177636</td>\n",
       "      <td>-94.851819</td>\n",
       "    </tr>\n",
       "    <tr>\n",
       "      <th>std</th>\n",
       "      <td>5.061204</td>\n",
       "      <td>17.456781</td>\n",
       "    </tr>\n",
       "    <tr>\n",
       "      <th>min</th>\n",
       "      <td>24.575999</td>\n",
       "      <td>-124.420710</td>\n",
       "    </tr>\n",
       "    <tr>\n",
       "      <th>25%</th>\n",
       "      <td>33.385700</td>\n",
       "      <td>-117.278825</td>\n",
       "    </tr>\n",
       "    <tr>\n",
       "      <th>50%</th>\n",
       "      <td>35.825415</td>\n",
       "      <td>-87.800657</td>\n",
       "    </tr>\n",
       "    <tr>\n",
       "      <th>75%</th>\n",
       "      <td>40.055512</td>\n",
       "      <td>-80.384344</td>\n",
       "    </tr>\n",
       "    <tr>\n",
       "      <th>max</th>\n",
       "      <td>48.933872</td>\n",
       "      <td>-68.160789</td>\n",
       "    </tr>\n",
       "  </tbody>\n",
       "</table>\n",
       "</div>"
      ],
      "text/plain": [
       "          Start_Lat     Start_Lng\n",
       "count  20000.000000  20000.000000\n",
       "mean      36.177636    -94.851819\n",
       "std        5.061204     17.456781\n",
       "min       24.575999   -124.420710\n",
       "25%       33.385700   -117.278825\n",
       "50%       35.825415    -87.800657\n",
       "75%       40.055512    -80.384344\n",
       "max       48.933872    -68.160789"
      ]
     },
     "execution_count": 23,
     "metadata": {},
     "output_type": "execute_result"
    }
   ],
   "source": [
    "df_loc[['Start_Lat', 'Start_Lng']].describe()"
   ]
  },
  {
   "cell_type": "code",
   "execution_count": 75,
   "id": "050e19f0-a6cb-446f-9cc4-421f6ab84d47",
   "metadata": {},
   "outputs": [],
   "source": [
    "def create_map(df_loc, latitude, longitude, zoom, tiles='OpenStreetMap'):\n",
    "    \"\"\"\n",
    "    Generate a Folium Map with clustered markers of accident locations.\n",
    "    \"\"\"\n",
    "    world_map = folium.Map(location=[latitude, longitude], zoom_start=zoom, tiles=tiles)\n",
    "    marker_cluster = MarkerCluster().add_to(world_map)\n",
    "\n",
    "    # Iterate over the DataFrame rows and add each marker to the cluster\n",
    "    for idx, row in df_loc.iterrows():\n",
    "        folium.Marker(\n",
    "            location=[row['Start_Lat'], row['Start_Lng']],\n",
    "            # You can add more attributes to your marker here, such as a popup\n",
    "            popup=f\"Lat, Lng: {row['Start_Lat']}, {row['Start_Lng']}\"\n",
    "        ).add_to(marker_cluster)\n",
    "\n",
    "    return world_map"
   ]
  },
  {
   "cell_type": "code",
   "execution_count": 76,
   "id": "9d617ea7-11bc-431e-98d0-4b9c3a04174e",
   "metadata": {},
   "outputs": [],
   "source": [
    "map_us = create_map(df_loc, 39.50, -98.35, 4, tiles=\"Cartodbdark_matter\")\n",
    "map_us\n"
   ]
  },
  {
   "cell_type": "markdown",
   "id": "9a9ff105-16b0-446f-a431-3da3dc501a51",
   "metadata": {},
   "source": [
    "### Folium doesn't work with 20k+ data points. Let's use KeplerGL"
   ]
  },
  {
   "cell_type": "code",
   "execution_count": 27,
   "id": "9df42524-f4ce-4604-af0d-de3bc9e38feb",
   "metadata": {},
   "outputs": [
    {
     "name": "stdout",
     "output_type": "stream",
     "text": [
      "Collecting keplergl\n",
      "  Downloading keplergl-0.3.2.tar.gz (9.7 MB)\n",
      "\u001b[2K     \u001b[90m━━━━━━━━━━━━━━━━━━━━━━━━━━━━━━━━━━━━━━━━\u001b[0m \u001b[32m9.7/9.7 MB\u001b[0m \u001b[31m1.4 MB/s\u001b[0m eta \u001b[36m0:00:00\u001b[0m00:01\u001b[0m00:01\u001b[0m\n",
      "\u001b[?25h  Installing build dependencies ... \u001b[?25ldone\n",
      "\u001b[?25h  Getting requirements to build wheel ... \u001b[?25ldone\n",
      "\u001b[?25h  Preparing metadata (pyproject.toml) ... \u001b[?25ldone\n",
      "\u001b[?25hCollecting ipywidgets<8,>=7.0.0 (from keplergl)\n",
      "  Downloading ipywidgets-7.8.1-py2.py3-none-any.whl.metadata (1.9 kB)\n",
      "Collecting traittypes>=0.2.1 (from keplergl)\n",
      "  Downloading traittypes-0.2.1-py2.py3-none-any.whl.metadata (1.0 kB)\n",
      "Collecting geopandas>=0.5.0 (from keplergl)\n",
      "  Downloading geopandas-0.14.3-py3-none-any.whl.metadata (1.5 kB)\n",
      "Requirement already satisfied: pandas>=0.23.0 in /Users/yuniktamrakar/.pyenv/versions/3.10.3/lib/python3.10/site-packages (from keplergl) (2.0.3)\n",
      "Collecting Shapely>=1.6.4.post2 (from keplergl)\n",
      "  Downloading shapely-2.0.3-cp310-cp310-macosx_11_0_arm64.whl.metadata (7.0 kB)\n",
      "Collecting fiona>=1.8.21 (from geopandas>=0.5.0->keplergl)\n",
      "  Downloading fiona-1.9.6-cp310-cp310-macosx_11_0_arm64.whl.metadata (50 kB)\n",
      "\u001b[2K     \u001b[90m━━━━━━━━━━━━━━━━━━━━━━━━━━━━━━━━━━━━━━━━\u001b[0m \u001b[32m50.2/50.2 kB\u001b[0m \u001b[31m2.0 MB/s\u001b[0m eta \u001b[36m0:00:00\u001b[0m\n",
      "\u001b[?25hRequirement already satisfied: packaging in /Users/yuniktamrakar/.pyenv/versions/3.10.3/lib/python3.10/site-packages (from geopandas>=0.5.0->keplergl) (23.1)\n",
      "Collecting pyproj>=3.3.0 (from geopandas>=0.5.0->keplergl)\n",
      "  Downloading pyproj-3.6.1-cp310-cp310-macosx_11_0_arm64.whl.metadata (31 kB)\n",
      "Requirement already satisfied: comm>=0.1.3 in /Users/yuniktamrakar/.pyenv/versions/3.10.3/lib/python3.10/site-packages (from ipywidgets<8,>=7.0.0->keplergl) (0.1.4)\n",
      "Requirement already satisfied: ipython-genutils~=0.2.0 in /Users/yuniktamrakar/.pyenv/versions/3.10.3/lib/python3.10/site-packages (from ipywidgets<8,>=7.0.0->keplergl) (0.2.0)\n",
      "Requirement already satisfied: traitlets>=4.3.1 in /Users/yuniktamrakar/.pyenv/versions/3.10.3/lib/python3.10/site-packages (from ipywidgets<8,>=7.0.0->keplergl) (5.9.0)\n",
      "Collecting widgetsnbextension~=3.6.6 (from ipywidgets<8,>=7.0.0->keplergl)\n",
      "  Downloading widgetsnbextension-3.6.6-py2.py3-none-any.whl.metadata (1.3 kB)\n",
      "Requirement already satisfied: ipython>=4.0.0 in /Users/yuniktamrakar/.pyenv/versions/3.10.3/lib/python3.10/site-packages (from ipywidgets<8,>=7.0.0->keplergl) (8.14.0)\n",
      "Collecting jupyterlab-widgets<3,>=1.0.0 (from ipywidgets<8,>=7.0.0->keplergl)\n",
      "  Downloading jupyterlab_widgets-1.1.7-py3-none-any.whl.metadata (3.7 kB)\n",
      "Requirement already satisfied: python-dateutil>=2.8.2 in /Users/yuniktamrakar/.pyenv/versions/3.10.3/lib/python3.10/site-packages (from pandas>=0.23.0->keplergl) (2.8.2)\n",
      "Requirement already satisfied: pytz>=2020.1 in /Users/yuniktamrakar/.pyenv/versions/3.10.3/lib/python3.10/site-packages (from pandas>=0.23.0->keplergl) (2023.3)\n",
      "Requirement already satisfied: tzdata>=2022.1 in /Users/yuniktamrakar/.pyenv/versions/3.10.3/lib/python3.10/site-packages (from pandas>=0.23.0->keplergl) (2023.3)\n",
      "Requirement already satisfied: numpy>=1.21.0 in /Users/yuniktamrakar/.pyenv/versions/3.10.3/lib/python3.10/site-packages (from pandas>=0.23.0->keplergl) (1.24.3)\n",
      "Requirement already satisfied: attrs>=19.2.0 in /Users/yuniktamrakar/.pyenv/versions/3.10.3/lib/python3.10/site-packages (from fiona>=1.8.21->geopandas>=0.5.0->keplergl) (23.1.0)\n",
      "Requirement already satisfied: certifi in /Users/yuniktamrakar/.pyenv/versions/3.10.3/lib/python3.10/site-packages (from fiona>=1.8.21->geopandas>=0.5.0->keplergl) (2023.7.22)\n",
      "Requirement already satisfied: click~=8.0 in /Users/yuniktamrakar/.pyenv/versions/3.10.3/lib/python3.10/site-packages (from fiona>=1.8.21->geopandas>=0.5.0->keplergl) (8.1.7)\n",
      "Collecting click-plugins>=1.0 (from fiona>=1.8.21->geopandas>=0.5.0->keplergl)\n",
      "  Downloading click_plugins-1.1.1-py2.py3-none-any.whl.metadata (6.4 kB)\n",
      "Collecting cligj>=0.5 (from fiona>=1.8.21->geopandas>=0.5.0->keplergl)\n",
      "  Downloading cligj-0.7.2-py3-none-any.whl.metadata (5.0 kB)\n",
      "Requirement already satisfied: six in /Users/yuniktamrakar/.pyenv/versions/3.10.3/lib/python3.10/site-packages (from fiona>=1.8.21->geopandas>=0.5.0->keplergl) (1.16.0)\n",
      "Requirement already satisfied: backcall in /Users/yuniktamrakar/.pyenv/versions/3.10.3/lib/python3.10/site-packages (from ipython>=4.0.0->ipywidgets<8,>=7.0.0->keplergl) (0.2.0)\n",
      "Requirement already satisfied: decorator in /Users/yuniktamrakar/.pyenv/versions/3.10.3/lib/python3.10/site-packages (from ipython>=4.0.0->ipywidgets<8,>=7.0.0->keplergl) (5.1.1)\n",
      "Requirement already satisfied: jedi>=0.16 in /Users/yuniktamrakar/.pyenv/versions/3.10.3/lib/python3.10/site-packages (from ipython>=4.0.0->ipywidgets<8,>=7.0.0->keplergl) (0.19.0)\n",
      "Requirement already satisfied: matplotlib-inline in /Users/yuniktamrakar/.pyenv/versions/3.10.3/lib/python3.10/site-packages (from ipython>=4.0.0->ipywidgets<8,>=7.0.0->keplergl) (0.1.6)\n",
      "Requirement already satisfied: pickleshare in /Users/yuniktamrakar/.pyenv/versions/3.10.3/lib/python3.10/site-packages (from ipython>=4.0.0->ipywidgets<8,>=7.0.0->keplergl) (0.7.5)\n",
      "Requirement already satisfied: prompt-toolkit!=3.0.37,<3.1.0,>=3.0.30 in /Users/yuniktamrakar/.pyenv/versions/3.10.3/lib/python3.10/site-packages (from ipython>=4.0.0->ipywidgets<8,>=7.0.0->keplergl) (3.0.39)\n",
      "Requirement already satisfied: pygments>=2.4.0 in /Users/yuniktamrakar/.pyenv/versions/3.10.3/lib/python3.10/site-packages (from ipython>=4.0.0->ipywidgets<8,>=7.0.0->keplergl) (2.16.1)\n",
      "Requirement already satisfied: stack-data in /Users/yuniktamrakar/.pyenv/versions/3.10.3/lib/python3.10/site-packages (from ipython>=4.0.0->ipywidgets<8,>=7.0.0->keplergl) (0.6.2)\n",
      "Requirement already satisfied: pexpect>4.3 in /Users/yuniktamrakar/.pyenv/versions/3.10.3/lib/python3.10/site-packages (from ipython>=4.0.0->ipywidgets<8,>=7.0.0->keplergl) (4.8.0)\n",
      "Requirement already satisfied: appnope in /Users/yuniktamrakar/.pyenv/versions/3.10.3/lib/python3.10/site-packages (from ipython>=4.0.0->ipywidgets<8,>=7.0.0->keplergl) (0.1.3)\n",
      "Requirement already satisfied: notebook>=4.4.1 in /Users/yuniktamrakar/.pyenv/versions/3.10.3/lib/python3.10/site-packages (from widgetsnbextension~=3.6.6->ipywidgets<8,>=7.0.0->keplergl) (7.0.2)\n",
      "Requirement already satisfied: parso<0.9.0,>=0.8.3 in /Users/yuniktamrakar/.pyenv/versions/3.10.3/lib/python3.10/site-packages (from jedi>=0.16->ipython>=4.0.0->ipywidgets<8,>=7.0.0->keplergl) (0.8.3)\n",
      "Requirement already satisfied: jupyter-server<3,>=2.4.0 in /Users/yuniktamrakar/.pyenv/versions/3.10.3/lib/python3.10/site-packages (from notebook>=4.4.1->widgetsnbextension~=3.6.6->ipywidgets<8,>=7.0.0->keplergl) (2.7.2)\n",
      "Requirement already satisfied: jupyterlab-server<3,>=2.22.1 in /Users/yuniktamrakar/.pyenv/versions/3.10.3/lib/python3.10/site-packages (from notebook>=4.4.1->widgetsnbextension~=3.6.6->ipywidgets<8,>=7.0.0->keplergl) (2.24.0)\n",
      "Requirement already satisfied: jupyterlab<5,>=4.0.2 in /Users/yuniktamrakar/.pyenv/versions/3.10.3/lib/python3.10/site-packages (from notebook>=4.4.1->widgetsnbextension~=3.6.6->ipywidgets<8,>=7.0.0->keplergl) (4.0.5)\n",
      "Requirement already satisfied: notebook-shim<0.3,>=0.2 in /Users/yuniktamrakar/.pyenv/versions/3.10.3/lib/python3.10/site-packages (from notebook>=4.4.1->widgetsnbextension~=3.6.6->ipywidgets<8,>=7.0.0->keplergl) (0.2.3)\n",
      "Requirement already satisfied: tornado>=6.2.0 in /Users/yuniktamrakar/.pyenv/versions/3.10.3/lib/python3.10/site-packages (from notebook>=4.4.1->widgetsnbextension~=3.6.6->ipywidgets<8,>=7.0.0->keplergl) (6.3.3)\n",
      "Requirement already satisfied: ptyprocess>=0.5 in /Users/yuniktamrakar/.pyenv/versions/3.10.3/lib/python3.10/site-packages (from pexpect>4.3->ipython>=4.0.0->ipywidgets<8,>=7.0.0->keplergl) (0.7.0)\n",
      "Requirement already satisfied: wcwidth in /Users/yuniktamrakar/.pyenv/versions/3.10.3/lib/python3.10/site-packages (from prompt-toolkit!=3.0.37,<3.1.0,>=3.0.30->ipython>=4.0.0->ipywidgets<8,>=7.0.0->keplergl) (0.2.6)\n",
      "Requirement already satisfied: executing>=1.2.0 in /Users/yuniktamrakar/.pyenv/versions/3.10.3/lib/python3.10/site-packages (from stack-data->ipython>=4.0.0->ipywidgets<8,>=7.0.0->keplergl) (1.2.0)\n",
      "Requirement already satisfied: asttokens>=2.1.0 in /Users/yuniktamrakar/.pyenv/versions/3.10.3/lib/python3.10/site-packages (from stack-data->ipython>=4.0.0->ipywidgets<8,>=7.0.0->keplergl) (2.2.1)\n",
      "Requirement already satisfied: pure-eval in /Users/yuniktamrakar/.pyenv/versions/3.10.3/lib/python3.10/site-packages (from stack-data->ipython>=4.0.0->ipywidgets<8,>=7.0.0->keplergl) (0.2.2)\n",
      "Requirement already satisfied: anyio>=3.1.0 in /Users/yuniktamrakar/.pyenv/versions/3.10.3/lib/python3.10/site-packages (from jupyter-server<3,>=2.4.0->notebook>=4.4.1->widgetsnbextension~=3.6.6->ipywidgets<8,>=7.0.0->keplergl) (3.7.1)\n",
      "Requirement already satisfied: argon2-cffi in /Users/yuniktamrakar/.pyenv/versions/3.10.3/lib/python3.10/site-packages (from jupyter-server<3,>=2.4.0->notebook>=4.4.1->widgetsnbextension~=3.6.6->ipywidgets<8,>=7.0.0->keplergl) (23.1.0)\n",
      "Requirement already satisfied: jinja2 in /Users/yuniktamrakar/.pyenv/versions/3.10.3/lib/python3.10/site-packages (from jupyter-server<3,>=2.4.0->notebook>=4.4.1->widgetsnbextension~=3.6.6->ipywidgets<8,>=7.0.0->keplergl) (3.1.2)\n",
      "Requirement already satisfied: jupyter-client>=7.4.4 in /Users/yuniktamrakar/.pyenv/versions/3.10.3/lib/python3.10/site-packages (from jupyter-server<3,>=2.4.0->notebook>=4.4.1->widgetsnbextension~=3.6.6->ipywidgets<8,>=7.0.0->keplergl) (8.3.0)\n",
      "Requirement already satisfied: jupyter-core!=5.0.*,>=4.12 in /Users/yuniktamrakar/.pyenv/versions/3.10.3/lib/python3.10/site-packages (from jupyter-server<3,>=2.4.0->notebook>=4.4.1->widgetsnbextension~=3.6.6->ipywidgets<8,>=7.0.0->keplergl) (5.3.1)\n",
      "Requirement already satisfied: jupyter-events>=0.6.0 in /Users/yuniktamrakar/.pyenv/versions/3.10.3/lib/python3.10/site-packages (from jupyter-server<3,>=2.4.0->notebook>=4.4.1->widgetsnbextension~=3.6.6->ipywidgets<8,>=7.0.0->keplergl) (0.7.0)\n",
      "Requirement already satisfied: jupyter-server-terminals in /Users/yuniktamrakar/.pyenv/versions/3.10.3/lib/python3.10/site-packages (from jupyter-server<3,>=2.4.0->notebook>=4.4.1->widgetsnbextension~=3.6.6->ipywidgets<8,>=7.0.0->keplergl) (0.4.4)\n",
      "Requirement already satisfied: nbconvert>=6.4.4 in /Users/yuniktamrakar/.pyenv/versions/3.10.3/lib/python3.10/site-packages (from jupyter-server<3,>=2.4.0->notebook>=4.4.1->widgetsnbextension~=3.6.6->ipywidgets<8,>=7.0.0->keplergl) (7.7.4)\n",
      "Requirement already satisfied: nbformat>=5.3.0 in /Users/yuniktamrakar/.pyenv/versions/3.10.3/lib/python3.10/site-packages (from jupyter-server<3,>=2.4.0->notebook>=4.4.1->widgetsnbextension~=3.6.6->ipywidgets<8,>=7.0.0->keplergl) (5.9.2)\n",
      "Requirement already satisfied: overrides in /Users/yuniktamrakar/.pyenv/versions/3.10.3/lib/python3.10/site-packages (from jupyter-server<3,>=2.4.0->notebook>=4.4.1->widgetsnbextension~=3.6.6->ipywidgets<8,>=7.0.0->keplergl) (7.4.0)\n",
      "Requirement already satisfied: prometheus-client in /Users/yuniktamrakar/.pyenv/versions/3.10.3/lib/python3.10/site-packages (from jupyter-server<3,>=2.4.0->notebook>=4.4.1->widgetsnbextension~=3.6.6->ipywidgets<8,>=7.0.0->keplergl) (0.17.1)\n",
      "Requirement already satisfied: pyzmq>=24 in /Users/yuniktamrakar/.pyenv/versions/3.10.3/lib/python3.10/site-packages (from jupyter-server<3,>=2.4.0->notebook>=4.4.1->widgetsnbextension~=3.6.6->ipywidgets<8,>=7.0.0->keplergl) (25.1.1)\n",
      "Requirement already satisfied: send2trash>=1.8.2 in /Users/yuniktamrakar/.pyenv/versions/3.10.3/lib/python3.10/site-packages (from jupyter-server<3,>=2.4.0->notebook>=4.4.1->widgetsnbextension~=3.6.6->ipywidgets<8,>=7.0.0->keplergl) (1.8.2)\n",
      "Requirement already satisfied: terminado>=0.8.3 in /Users/yuniktamrakar/.pyenv/versions/3.10.3/lib/python3.10/site-packages (from jupyter-server<3,>=2.4.0->notebook>=4.4.1->widgetsnbextension~=3.6.6->ipywidgets<8,>=7.0.0->keplergl) (0.17.1)\n",
      "Requirement already satisfied: websocket-client in /Users/yuniktamrakar/.pyenv/versions/3.10.3/lib/python3.10/site-packages (from jupyter-server<3,>=2.4.0->notebook>=4.4.1->widgetsnbextension~=3.6.6->ipywidgets<8,>=7.0.0->keplergl) (1.6.2)\n",
      "Requirement already satisfied: async-lru>=1.0.0 in /Users/yuniktamrakar/.pyenv/versions/3.10.3/lib/python3.10/site-packages (from jupyterlab<5,>=4.0.2->notebook>=4.4.1->widgetsnbextension~=3.6.6->ipywidgets<8,>=7.0.0->keplergl) (2.0.4)\n",
      "Requirement already satisfied: ipykernel in /Users/yuniktamrakar/.pyenv/versions/3.10.3/lib/python3.10/site-packages (from jupyterlab<5,>=4.0.2->notebook>=4.4.1->widgetsnbextension~=3.6.6->ipywidgets<8,>=7.0.0->keplergl) (6.25.1)\n",
      "Requirement already satisfied: jupyter-lsp>=2.0.0 in /Users/yuniktamrakar/.pyenv/versions/3.10.3/lib/python3.10/site-packages (from jupyterlab<5,>=4.0.2->notebook>=4.4.1->widgetsnbextension~=3.6.6->ipywidgets<8,>=7.0.0->keplergl) (2.2.0)\n",
      "Requirement already satisfied: tomli in /Users/yuniktamrakar/.pyenv/versions/3.10.3/lib/python3.10/site-packages (from jupyterlab<5,>=4.0.2->notebook>=4.4.1->widgetsnbextension~=3.6.6->ipywidgets<8,>=7.0.0->keplergl) (2.0.1)\n",
      "Requirement already satisfied: babel>=2.10 in /Users/yuniktamrakar/.pyenv/versions/3.10.3/lib/python3.10/site-packages (from jupyterlab-server<3,>=2.22.1->notebook>=4.4.1->widgetsnbextension~=3.6.6->ipywidgets<8,>=7.0.0->keplergl) (2.12.1)\n",
      "Requirement already satisfied: json5>=0.9.0 in /Users/yuniktamrakar/.pyenv/versions/3.10.3/lib/python3.10/site-packages (from jupyterlab-server<3,>=2.22.1->notebook>=4.4.1->widgetsnbextension~=3.6.6->ipywidgets<8,>=7.0.0->keplergl) (0.9.14)\n",
      "Requirement already satisfied: jsonschema>=4.17.3 in /Users/yuniktamrakar/.pyenv/versions/3.10.3/lib/python3.10/site-packages (from jupyterlab-server<3,>=2.22.1->notebook>=4.4.1->widgetsnbextension~=3.6.6->ipywidgets<8,>=7.0.0->keplergl) (4.19.0)\n",
      "Requirement already satisfied: requests>=2.28 in /Users/yuniktamrakar/.pyenv/versions/3.10.3/lib/python3.10/site-packages (from jupyterlab-server<3,>=2.22.1->notebook>=4.4.1->widgetsnbextension~=3.6.6->ipywidgets<8,>=7.0.0->keplergl) (2.31.0)\n",
      "Requirement already satisfied: idna>=2.8 in /Users/yuniktamrakar/.pyenv/versions/3.10.3/lib/python3.10/site-packages (from anyio>=3.1.0->jupyter-server<3,>=2.4.0->notebook>=4.4.1->widgetsnbextension~=3.6.6->ipywidgets<8,>=7.0.0->keplergl) (3.4)\n",
      "Requirement already satisfied: sniffio>=1.1 in /Users/yuniktamrakar/.pyenv/versions/3.10.3/lib/python3.10/site-packages (from anyio>=3.1.0->jupyter-server<3,>=2.4.0->notebook>=4.4.1->widgetsnbextension~=3.6.6->ipywidgets<8,>=7.0.0->keplergl) (1.3.0)\n",
      "Requirement already satisfied: exceptiongroup in /Users/yuniktamrakar/.pyenv/versions/3.10.3/lib/python3.10/site-packages (from anyio>=3.1.0->jupyter-server<3,>=2.4.0->notebook>=4.4.1->widgetsnbextension~=3.6.6->ipywidgets<8,>=7.0.0->keplergl) (1.1.3)\n",
      "Requirement already satisfied: typing-extensions>=4.0.0 in /Users/yuniktamrakar/.pyenv/versions/3.10.3/lib/python3.10/site-packages (from async-lru>=1.0.0->jupyterlab<5,>=4.0.2->notebook>=4.4.1->widgetsnbextension~=3.6.6->ipywidgets<8,>=7.0.0->keplergl) (4.9.0)\n",
      "Requirement already satisfied: MarkupSafe>=2.0 in /Users/yuniktamrakar/.pyenv/versions/3.10.3/lib/python3.10/site-packages (from jinja2->jupyter-server<3,>=2.4.0->notebook>=4.4.1->widgetsnbextension~=3.6.6->ipywidgets<8,>=7.0.0->keplergl) (2.1.3)\n",
      "Requirement already satisfied: jsonschema-specifications>=2023.03.6 in /Users/yuniktamrakar/.pyenv/versions/3.10.3/lib/python3.10/site-packages (from jsonschema>=4.17.3->jupyterlab-server<3,>=2.22.1->notebook>=4.4.1->widgetsnbextension~=3.6.6->ipywidgets<8,>=7.0.0->keplergl) (2023.7.1)\n",
      "Requirement already satisfied: referencing>=0.28.4 in /Users/yuniktamrakar/.pyenv/versions/3.10.3/lib/python3.10/site-packages (from jsonschema>=4.17.3->jupyterlab-server<3,>=2.22.1->notebook>=4.4.1->widgetsnbextension~=3.6.6->ipywidgets<8,>=7.0.0->keplergl) (0.30.2)\n",
      "Requirement already satisfied: rpds-py>=0.7.1 in /Users/yuniktamrakar/.pyenv/versions/3.10.3/lib/python3.10/site-packages (from jsonschema>=4.17.3->jupyterlab-server<3,>=2.22.1->notebook>=4.4.1->widgetsnbextension~=3.6.6->ipywidgets<8,>=7.0.0->keplergl) (0.9.2)\n",
      "Requirement already satisfied: platformdirs>=2.5 in /Users/yuniktamrakar/.pyenv/versions/3.10.3/lib/python3.10/site-packages (from jupyter-core!=5.0.*,>=4.12->jupyter-server<3,>=2.4.0->notebook>=4.4.1->widgetsnbextension~=3.6.6->ipywidgets<8,>=7.0.0->keplergl) (3.10.0)\n",
      "Requirement already satisfied: python-json-logger>=2.0.4 in /Users/yuniktamrakar/.pyenv/versions/3.10.3/lib/python3.10/site-packages (from jupyter-events>=0.6.0->jupyter-server<3,>=2.4.0->notebook>=4.4.1->widgetsnbextension~=3.6.6->ipywidgets<8,>=7.0.0->keplergl) (2.0.7)\n",
      "Requirement already satisfied: pyyaml>=5.3 in /Users/yuniktamrakar/.pyenv/versions/3.10.3/lib/python3.10/site-packages (from jupyter-events>=0.6.0->jupyter-server<3,>=2.4.0->notebook>=4.4.1->widgetsnbextension~=3.6.6->ipywidgets<8,>=7.0.0->keplergl) (6.0.1)\n",
      "Requirement already satisfied: rfc3339-validator in /Users/yuniktamrakar/.pyenv/versions/3.10.3/lib/python3.10/site-packages (from jupyter-events>=0.6.0->jupyter-server<3,>=2.4.0->notebook>=4.4.1->widgetsnbextension~=3.6.6->ipywidgets<8,>=7.0.0->keplergl) (0.1.4)\n",
      "Requirement already satisfied: rfc3986-validator>=0.1.1 in /Users/yuniktamrakar/.pyenv/versions/3.10.3/lib/python3.10/site-packages (from jupyter-events>=0.6.0->jupyter-server<3,>=2.4.0->notebook>=4.4.1->widgetsnbextension~=3.6.6->ipywidgets<8,>=7.0.0->keplergl) (0.1.1)\n",
      "Requirement already satisfied: beautifulsoup4 in /Users/yuniktamrakar/.pyenv/versions/3.10.3/lib/python3.10/site-packages (from nbconvert>=6.4.4->jupyter-server<3,>=2.4.0->notebook>=4.4.1->widgetsnbextension~=3.6.6->ipywidgets<8,>=7.0.0->keplergl) (4.12.2)\n",
      "Requirement already satisfied: bleach!=5.0.0 in /Users/yuniktamrakar/.pyenv/versions/3.10.3/lib/python3.10/site-packages (from nbconvert>=6.4.4->jupyter-server<3,>=2.4.0->notebook>=4.4.1->widgetsnbextension~=3.6.6->ipywidgets<8,>=7.0.0->keplergl) (6.0.0)\n",
      "Requirement already satisfied: defusedxml in /Users/yuniktamrakar/.pyenv/versions/3.10.3/lib/python3.10/site-packages (from nbconvert>=6.4.4->jupyter-server<3,>=2.4.0->notebook>=4.4.1->widgetsnbextension~=3.6.6->ipywidgets<8,>=7.0.0->keplergl) (0.7.1)\n",
      "Requirement already satisfied: jupyterlab-pygments in /Users/yuniktamrakar/.pyenv/versions/3.10.3/lib/python3.10/site-packages (from nbconvert>=6.4.4->jupyter-server<3,>=2.4.0->notebook>=4.4.1->widgetsnbextension~=3.6.6->ipywidgets<8,>=7.0.0->keplergl) (0.2.2)\n",
      "Requirement already satisfied: mistune<4,>=2.0.3 in /Users/yuniktamrakar/.pyenv/versions/3.10.3/lib/python3.10/site-packages (from nbconvert>=6.4.4->jupyter-server<3,>=2.4.0->notebook>=4.4.1->widgetsnbextension~=3.6.6->ipywidgets<8,>=7.0.0->keplergl) (3.0.1)\n",
      "Requirement already satisfied: nbclient>=0.5.0 in /Users/yuniktamrakar/.pyenv/versions/3.10.3/lib/python3.10/site-packages (from nbconvert>=6.4.4->jupyter-server<3,>=2.4.0->notebook>=4.4.1->widgetsnbextension~=3.6.6->ipywidgets<8,>=7.0.0->keplergl) (0.7.4)\n",
      "Requirement already satisfied: pandocfilters>=1.4.1 in /Users/yuniktamrakar/.pyenv/versions/3.10.3/lib/python3.10/site-packages (from nbconvert>=6.4.4->jupyter-server<3,>=2.4.0->notebook>=4.4.1->widgetsnbextension~=3.6.6->ipywidgets<8,>=7.0.0->keplergl) (1.5.0)\n",
      "Requirement already satisfied: tinycss2 in /Users/yuniktamrakar/.pyenv/versions/3.10.3/lib/python3.10/site-packages (from nbconvert>=6.4.4->jupyter-server<3,>=2.4.0->notebook>=4.4.1->widgetsnbextension~=3.6.6->ipywidgets<8,>=7.0.0->keplergl) (1.2.1)\n",
      "Requirement already satisfied: fastjsonschema in /Users/yuniktamrakar/.pyenv/versions/3.10.3/lib/python3.10/site-packages (from nbformat>=5.3.0->jupyter-server<3,>=2.4.0->notebook>=4.4.1->widgetsnbextension~=3.6.6->ipywidgets<8,>=7.0.0->keplergl) (2.18.0)\n",
      "Requirement already satisfied: charset-normalizer<4,>=2 in /Users/yuniktamrakar/.pyenv/versions/3.10.3/lib/python3.10/site-packages (from requests>=2.28->jupyterlab-server<3,>=2.22.1->notebook>=4.4.1->widgetsnbextension~=3.6.6->ipywidgets<8,>=7.0.0->keplergl) (3.2.0)\n",
      "Requirement already satisfied: urllib3<3,>=1.21.1 in /Users/yuniktamrakar/.pyenv/versions/3.10.3/lib/python3.10/site-packages (from requests>=2.28->jupyterlab-server<3,>=2.22.1->notebook>=4.4.1->widgetsnbextension~=3.6.6->ipywidgets<8,>=7.0.0->keplergl) (1.26.16)\n",
      "Requirement already satisfied: argon2-cffi-bindings in /Users/yuniktamrakar/.pyenv/versions/3.10.3/lib/python3.10/site-packages (from argon2-cffi->jupyter-server<3,>=2.4.0->notebook>=4.4.1->widgetsnbextension~=3.6.6->ipywidgets<8,>=7.0.0->keplergl) (21.2.0)\n",
      "Requirement already satisfied: debugpy>=1.6.5 in /Users/yuniktamrakar/.pyenv/versions/3.10.3/lib/python3.10/site-packages (from ipykernel->jupyterlab<5,>=4.0.2->notebook>=4.4.1->widgetsnbextension~=3.6.6->ipywidgets<8,>=7.0.0->keplergl) (1.6.7.post1)\n",
      "Requirement already satisfied: nest-asyncio in /Users/yuniktamrakar/.pyenv/versions/3.10.3/lib/python3.10/site-packages (from ipykernel->jupyterlab<5,>=4.0.2->notebook>=4.4.1->widgetsnbextension~=3.6.6->ipywidgets<8,>=7.0.0->keplergl) (1.5.7)\n",
      "Requirement already satisfied: psutil in /Users/yuniktamrakar/.pyenv/versions/3.10.3/lib/python3.10/site-packages (from ipykernel->jupyterlab<5,>=4.0.2->notebook>=4.4.1->widgetsnbextension~=3.6.6->ipywidgets<8,>=7.0.0->keplergl) (5.9.5)\n",
      "Requirement already satisfied: webencodings in /Users/yuniktamrakar/.pyenv/versions/3.10.3/lib/python3.10/site-packages (from bleach!=5.0.0->nbconvert>=6.4.4->jupyter-server<3,>=2.4.0->notebook>=4.4.1->widgetsnbextension~=3.6.6->ipywidgets<8,>=7.0.0->keplergl) (0.5.1)\n",
      "Requirement already satisfied: fqdn in /Users/yuniktamrakar/.pyenv/versions/3.10.3/lib/python3.10/site-packages (from jsonschema[format-nongpl]>=4.18.0->jupyter-events>=0.6.0->jupyter-server<3,>=2.4.0->notebook>=4.4.1->widgetsnbextension~=3.6.6->ipywidgets<8,>=7.0.0->keplergl) (1.5.1)\n",
      "Requirement already satisfied: isoduration in /Users/yuniktamrakar/.pyenv/versions/3.10.3/lib/python3.10/site-packages (from jsonschema[format-nongpl]>=4.18.0->jupyter-events>=0.6.0->jupyter-server<3,>=2.4.0->notebook>=4.4.1->widgetsnbextension~=3.6.6->ipywidgets<8,>=7.0.0->keplergl) (20.11.0)\n",
      "Requirement already satisfied: jsonpointer>1.13 in /Users/yuniktamrakar/.pyenv/versions/3.10.3/lib/python3.10/site-packages (from jsonschema[format-nongpl]>=4.18.0->jupyter-events>=0.6.0->jupyter-server<3,>=2.4.0->notebook>=4.4.1->widgetsnbextension~=3.6.6->ipywidgets<8,>=7.0.0->keplergl) (2.4)\n",
      "Requirement already satisfied: uri-template in /Users/yuniktamrakar/.pyenv/versions/3.10.3/lib/python3.10/site-packages (from jsonschema[format-nongpl]>=4.18.0->jupyter-events>=0.6.0->jupyter-server<3,>=2.4.0->notebook>=4.4.1->widgetsnbextension~=3.6.6->ipywidgets<8,>=7.0.0->keplergl) (1.3.0)\n",
      "Requirement already satisfied: webcolors>=1.11 in /Users/yuniktamrakar/.pyenv/versions/3.10.3/lib/python3.10/site-packages (from jsonschema[format-nongpl]>=4.18.0->jupyter-events>=0.6.0->jupyter-server<3,>=2.4.0->notebook>=4.4.1->widgetsnbextension~=3.6.6->ipywidgets<8,>=7.0.0->keplergl) (1.13)\n",
      "Requirement already satisfied: cffi>=1.0.1 in /Users/yuniktamrakar/.pyenv/versions/3.10.3/lib/python3.10/site-packages (from argon2-cffi-bindings->argon2-cffi->jupyter-server<3,>=2.4.0->notebook>=4.4.1->widgetsnbextension~=3.6.6->ipywidgets<8,>=7.0.0->keplergl) (1.15.1)\n",
      "Requirement already satisfied: soupsieve>1.2 in /Users/yuniktamrakar/.pyenv/versions/3.10.3/lib/python3.10/site-packages (from beautifulsoup4->nbconvert>=6.4.4->jupyter-server<3,>=2.4.0->notebook>=4.4.1->widgetsnbextension~=3.6.6->ipywidgets<8,>=7.0.0->keplergl) (2.4.1)\n",
      "Requirement already satisfied: pycparser in /Users/yuniktamrakar/.pyenv/versions/3.10.3/lib/python3.10/site-packages (from cffi>=1.0.1->argon2-cffi-bindings->argon2-cffi->jupyter-server<3,>=2.4.0->notebook>=4.4.1->widgetsnbextension~=3.6.6->ipywidgets<8,>=7.0.0->keplergl) (2.21)\n",
      "Requirement already satisfied: arrow>=0.15.0 in /Users/yuniktamrakar/.pyenv/versions/3.10.3/lib/python3.10/site-packages (from isoduration->jsonschema[format-nongpl]>=4.18.0->jupyter-events>=0.6.0->jupyter-server<3,>=2.4.0->notebook>=4.4.1->widgetsnbextension~=3.6.6->ipywidgets<8,>=7.0.0->keplergl) (1.2.3)\n",
      "Downloading geopandas-0.14.3-py3-none-any.whl (1.1 MB)\n",
      "\u001b[2K   \u001b[90m━━━━━━━━━━━━━━━━━━━━━━━━━━━━━━━━━━━━━━━━\u001b[0m \u001b[32m1.1/1.1 MB\u001b[0m \u001b[31m1.4 MB/s\u001b[0m eta \u001b[36m0:00:00\u001b[0m00:01\u001b[0m00:01\u001b[0m\n",
      "\u001b[?25hDownloading ipywidgets-7.8.1-py2.py3-none-any.whl (124 kB)\n",
      "\u001b[2K   \u001b[90m━━━━━━━━━━━━━━━━━━━━━━━━━━━━━━━━━━━━━━━━\u001b[0m \u001b[32m124.2/124.2 kB\u001b[0m \u001b[31m1.2 MB/s\u001b[0m eta \u001b[36m0:00:00\u001b[0ma \u001b[36m0:00:01\u001b[0m\n",
      "\u001b[?25hDownloading shapely-2.0.3-cp310-cp310-macosx_11_0_arm64.whl (1.3 MB)\n",
      "\u001b[2K   \u001b[90m━━━━━━━━━━━━━━━━━━━━━━━━━━━━━━━━━━━━━━━━\u001b[0m \u001b[32m1.3/1.3 MB\u001b[0m \u001b[31m1.3 MB/s\u001b[0m eta \u001b[36m0:00:00\u001b[0m00:01\u001b[0m00:01\u001b[0m\n",
      "\u001b[?25hDownloading traittypes-0.2.1-py2.py3-none-any.whl (8.6 kB)\n",
      "Downloading fiona-1.9.6-cp310-cp310-macosx_11_0_arm64.whl (13.9 MB)\n",
      "\u001b[2K   \u001b[90m━━━━━━━━━━━━━━━━━━━━━━━━━━━━━━━━━━━━━━━━\u001b[0m \u001b[32m13.9/13.9 MB\u001b[0m \u001b[31m1.1 MB/s\u001b[0m eta \u001b[36m0:00:00\u001b[0m00:01\u001b[0m00:01\u001b[0mm\n",
      "\u001b[?25hDownloading jupyterlab_widgets-1.1.7-py3-none-any.whl (295 kB)\n",
      "\u001b[2K   \u001b[90m━━━━━━━━━━━━━━━━━━━━━━━━━━━━━━━━━━━━━━━━\u001b[0m \u001b[32m295.4/295.4 kB\u001b[0m \u001b[31m1.4 MB/s\u001b[0m eta \u001b[36m0:00:00\u001b[0ma \u001b[36m0:00:01\u001b[0m\n",
      "\u001b[?25hDownloading pyproj-3.6.1-cp310-cp310-macosx_11_0_arm64.whl (4.9 MB)\n",
      "\u001b[2K   \u001b[90m━━━━━━━━━━━━━━━━━━━━━━━━━━━━━━━━━━━━━━━━\u001b[0m \u001b[32m4.9/4.9 MB\u001b[0m \u001b[31m953.6 kB/s\u001b[0m eta \u001b[36m0:00:00\u001b[0m00:01\u001b[0m00:01\u001b[0m\n",
      "\u001b[?25hDownloading widgetsnbextension-3.6.6-py2.py3-none-any.whl (1.6 MB)\n",
      "\u001b[2K   \u001b[90m━━━━━━━━━━━━━━━━━━━━━━━━━━━━━━━━━━━━━━━━\u001b[0m \u001b[32m1.6/1.6 MB\u001b[0m \u001b[31m1.4 MB/s\u001b[0m eta \u001b[36m0:00:00\u001b[0m00:01\u001b[0m00:01\u001b[0m\n",
      "\u001b[?25hDownloading click_plugins-1.1.1-py2.py3-none-any.whl (7.5 kB)\n",
      "Downloading cligj-0.7.2-py3-none-any.whl (7.1 kB)\n",
      "Building wheels for collected packages: keplergl\n",
      "  Building wheel for keplergl (pyproject.toml) ... \u001b[?25ldone\n",
      "\u001b[?25h  Created wheel for keplergl: filename=keplergl-0.3.2-py2.py3-none-any.whl size=17922315 sha256=aa13f45b173d40e849eada5d26b460645279cd0ad11ba39e08b124a2cce2b1d4\n",
      "  Stored in directory: /Users/yuniktamrakar/Library/Caches/pip/wheels/e5/e9/db/b8b8f2fcb5cb1cd7268d88959fce267bc00697cb8f50dcd0d9\n",
      "Successfully built keplergl\n",
      "Installing collected packages: traittypes, Shapely, pyproj, jupyterlab-widgets, cligj, click-plugins, fiona, geopandas, widgetsnbextension, ipywidgets, keplergl\n",
      "  Attempting uninstall: jupyterlab-widgets\n",
      "    Found existing installation: jupyterlab-widgets 3.0.8\n",
      "    Uninstalling jupyterlab-widgets-3.0.8:\n",
      "      Successfully uninstalled jupyterlab-widgets-3.0.8\n",
      "  Attempting uninstall: widgetsnbextension\n",
      "    Found existing installation: widgetsnbextension 4.0.8\n",
      "    Uninstalling widgetsnbextension-4.0.8:\n",
      "      Successfully uninstalled widgetsnbextension-4.0.8\n",
      "  Attempting uninstall: ipywidgets\n",
      "    Found existing installation: ipywidgets 8.1.0\n",
      "    Uninstalling ipywidgets-8.1.0:\n",
      "      Successfully uninstalled ipywidgets-8.1.0\n",
      "Successfully installed Shapely-2.0.3 click-plugins-1.1.1 cligj-0.7.2 fiona-1.9.6 geopandas-0.14.3 ipywidgets-7.8.1 jupyterlab-widgets-1.1.7 keplergl-0.3.2 pyproj-3.6.1 traittypes-0.2.1 widgetsnbextension-3.6.6\n",
      "\n",
      "\u001b[1m[\u001b[0m\u001b[34;49mnotice\u001b[0m\u001b[1;39;49m]\u001b[0m\u001b[39;49m A new release of pip is available: \u001b[0m\u001b[31;49m23.3.1\u001b[0m\u001b[39;49m -> \u001b[0m\u001b[32;49m24.0\u001b[0m\n",
      "\u001b[1m[\u001b[0m\u001b[34;49mnotice\u001b[0m\u001b[1;39;49m]\u001b[0m\u001b[39;49m To update, run: \u001b[0m\u001b[32;49mpip install --upgrade pip\u001b[0m\n",
      "usage: jupyter [-h] [--version] [--config-dir] [--data-dir] [--runtime-dir]\n",
      "               [--paths] [--json] [--debug]\n",
      "               [subcommand]\n",
      "\n",
      "Jupyter: Interactive Computing\n",
      "\n",
      "positional arguments:\n",
      "  subcommand     the subcommand to launch\n",
      "\n",
      "options:\n",
      "  -h, --help     show this help message and exit\n",
      "  --version      show the versions of core jupyter packages and exit\n",
      "  --config-dir   show Jupyter config dir\n",
      "  --data-dir     show Jupyter data dir\n",
      "  --runtime-dir  show Jupyter runtime dir\n",
      "  --paths        show all Jupyter paths. Add --json for machine-readable\n",
      "                 format.\n",
      "  --json         output paths as machine-readable json\n",
      "  --debug        output debug information about paths\n",
      "\n",
      "Available subcommands: console dejavu events execute kernel kernelspec lab\n",
      "labextension labhub migrate nbconvert notebook qtconsole run server\n",
      "troubleshoot trust\n",
      "\n",
      "Jupyter command `jupyter-nbextension` not found.\n",
      "usage: jupyter [-h] [--version] [--config-dir] [--data-dir] [--runtime-dir]\n",
      "               [--paths] [--json] [--debug]\n",
      "               [subcommand]\n",
      "\n",
      "Jupyter: Interactive Computing\n",
      "\n",
      "positional arguments:\n",
      "  subcommand     the subcommand to launch\n",
      "\n",
      "options:\n",
      "  -h, --help     show this help message and exit\n",
      "  --version      show the versions of core jupyter packages and exit\n",
      "  --config-dir   show Jupyter config dir\n",
      "  --data-dir     show Jupyter data dir\n",
      "  --runtime-dir  show Jupyter runtime dir\n",
      "  --paths        show all Jupyter paths. Add --json for machine-readable\n",
      "                 format.\n",
      "  --json         output paths as machine-readable json\n",
      "  --debug        output debug information about paths\n",
      "\n",
      "Available subcommands: console dejavu events execute kernel kernelspec lab\n",
      "labextension labhub migrate nbconvert notebook qtconsole run server\n",
      "troubleshoot trust\n",
      "\n",
      "Jupyter command `jupyter-nbextension` not found.\n"
     ]
    }
   ],
   "source": [
    "!pip install keplergl\n",
    "!jupyter nbextension install --py --sys-prefix keplergl\n",
    "!jupyter nbextension enable --py --sys-prefix keplergl"
   ]
  },
  {
   "cell_type": "code",
   "execution_count": 79,
   "id": "7075cdb3-ceb0-4635-9bc4-aac803a40731",
   "metadata": {},
   "outputs": [
    {
     "name": "stdout",
     "output_type": "stream",
     "text": [
      "\u001b[33m(Deprecated) Installing extensions with the jupyter labextension install command is now deprecated and will be removed in a future major version of JupyterLab.\n",
      "\n",
      "Users should manage prebuilt extensions with package managers like pip and conda, and extension authors are encouraged to distribute their extensions as prebuilt packages \u001b[0m\n",
      "Building jupyterlab assets (production, minimized)\n"
     ]
    }
   ],
   "source": [
    "!jupyter labextension install @jupyter-widgets/jupyterlab-manager keplergl-jupyter"
   ]
  },
  {
   "cell_type": "code",
   "execution_count": 2,
   "id": "c84ba5ad-0268-4989-a38f-19dd0b5965a2",
   "metadata": {},
   "outputs": [
    {
     "name": "stdout",
     "output_type": "stream",
     "text": [
      "\u001b[33m(Deprecated) Installing extensions with the jupyter labextension install command is now deprecated and will be removed in a future major version of JupyterLab.\n",
      "\n",
      "Users should manage prebuilt extensions with package managers like pip and conda, and extension authors are encouraged to distribute their extensions as prebuilt packages \u001b[0m\n",
      "/Users/yuniktamrakar/.pyenv/versions/3.10.3/lib/python3.10/site-packages/jupyterlab/debuglog.py:56: UserWarning: An error occurred.\n",
      "  warnings.warn(\"An error occurred.\")\n",
      "/Users/yuniktamrakar/.pyenv/versions/3.10.3/lib/python3.10/site-packages/jupyterlab/debuglog.py:57: UserWarning: ValueError: The extension \"keplergl-jupyter\" does not yet support the current version of JupyterLab.\n",
      "\n",
      "\n",
      "Conflicting Dependencies:\n",
      "JupyterLabExtension        Package\n",
      ">=18.2.0 <19.0.0>=17.0.2 <18.0.0 react\n",
      ">=18.2.0 <19.0.0>=17.0.2 <18.0.0 react-dom\n",
      "  warnings.warn(msg[-1].strip())\n",
      "/Users/yuniktamrakar/.pyenv/versions/3.10.3/lib/python3.10/site-packages/jupyterlab/debuglog.py:58: UserWarning: See the log file for details: /var/folders/dl/cs1nq3qs437gw0zqqgdzx1980000gn/T/jupyterlab-debug-wnfzto5p.log\n",
      "  warnings.warn(f\"See the log file for details: {log_path!s}\")\n"
     ]
    }
   ],
   "source": [
    "!jupyter labextension install keplergl-jupyter"
   ]
  },
  {
   "cell_type": "code",
   "execution_count": 7,
   "id": "341663eb-790a-451f-9ed3-ed0c78f18d59",
   "metadata": {},
   "outputs": [
    {
     "name": "stdout",
     "output_type": "stream",
     "text": [
      "User Guide: https://docs.kepler.gl/docs/keplergl-jupyter\n"
     ]
    },
    {
     "data": {
      "application/vnd.jupyter.widget-view+json": {
       "model_id": "bd71ab57d70c4d9f80b8907e87ba79a2",
       "version_major": 2,
       "version_minor": 0
      },
      "text/plain": [
       "KeplerGl()"
      ]
     },
     "metadata": {},
     "output_type": "display_data"
    }
   ],
   "source": [
    "from keplergl import KeplerGl\n",
    "map_1 = KeplerGl()\n",
    "map_1\n"
   ]
  },
  {
   "cell_type": "code",
   "execution_count": 18,
   "id": "c578f4a7-3a28-4cc4-99de-2f98c3f4a9df",
   "metadata": {},
   "outputs": [],
   "source": [
    "# Coordinates of the US cities\n",
    "us_cities_coords = {\n",
    "    \"New York\": {\"lat\": 40.7128, \"lon\": -74.0060},\n",
    "    \"Los Angeles\": {\"lat\": 34.0522, \"lon\": -118.2437},\n",
    "    \"Chicago\": {\"lat\": 41.8781, \"lon\": -87.6298},\n",
    "    \"Houston\": {\"lat\": 29.7604, \"lon\": -95.3698},\n",
    "    \"Phoenix\": {\"lat\": 33.4484, \"lon\": -112.0740},\n",
    "    \"Philadelphia\": {\"lat\": 39.9526, \"lon\": -75.1652},\n",
    "    \"San Antonio\": {\"lat\": 29.4241, \"lon\": -98.4936},\n",
    "    \"San Diego\": {\"lat\": 32.7157, \"lon\": -117.1611},\n",
    "    \"Dallas\": {\"lat\": 32.7767, \"lon\": -96.7970},\n",
    "    \"San Jose\": {\"lat\": 37.3382, \"lon\": -121.8863},\n",
    "    \"Austin\": {\"lat\": 30.2672, \"lon\": -97.7431},\n",
    "    \"Jacksonville\": {\"lat\": 30.3322, \"lon\": -81.6557},\n",
    "    \"Fort Worth\": {\"lat\": 32.7555, \"lon\": -97.3308},\n",
    "    \"Columbus\": {\"lat\": 39.9612, \"lon\": -82.9988},\n",
    "    \"San Francisco\": {\"lat\": 37.7749, \"lon\": -122.4194},\n",
    "    \"Charlotte\": {\"lat\": 35.2271, \"lon\": -80.8431},\n",
    "    \"Indianapolis\": {\"lat\": 39.7684, \"lon\": -86.1581},\n",
    "    \"Seattle\": {\"lat\": 47.6062, \"lon\": -122.3321},\n",
    "    \"Denver\": {\"lat\": 39.7392, \"lon\": -104.9903},\n",
    "    \"Washington\": {\"lat\": 38.9072, \"lon\": -77.0369}\n",
    "}"
   ]
  },
  {
   "cell_type": "code",
   "execution_count": null,
   "id": "eb0d4dd3-6beb-4c47-9ede-027b9ca1d32c",
   "metadata": {},
   "outputs": [],
   "source": [
    "map_ny = create_map(\n",
    "    df_loc, us_cities_coords['New York']['lat'],\n",
    "    us_cities_coords['New York']['lon'],\n",
    "    10, tiles=\"cartodbpositron\")\n",
    "map_ny"
   ]
  },
  {
   "cell_type": "code",
   "execution_count": null,
   "id": "148135ed-5c40-4f71-a5ad-cf131710c8b9",
   "metadata": {},
   "outputs": [],
   "source": [
    "map_ls = create_map(df_loc, \n",
    "                    us_cities_coords['Los Angeles']['lat'],\n",
    "                    us_cities_coords['Los Angeles']['lon'], \n",
    "                    10,\n",
    "                    tiles=\"Cartodbdark_matter\"\n",
    "                   )\n",
    "map_ls"
   ]
  },
  {
   "cell_type": "code",
   "execution_count": null,
   "id": "61765645-3662-4b70-b1a7-4692dde4672e",
   "metadata": {},
   "outputs": [],
   "source": [
    "from folium.plugins import HeatMap\n",
    "\n",
    "def create_heatmap(df_loc, latitude, longitude, zoom, tiles='OpenStreetMap'):\n",
    "    \"\"\"\n",
    "    Generate a Folium Map with a heatmap of accident locations.\n",
    "    \"\"\"\n",
    "    # Create a list of coordinates from the dataframe columns 'Start_Lat' and 'Start_Lng'\n",
    "    heat_data = [[row['Start_Lat'], row['Start_Lng']] for index, row in df_loc.iterrows()]\n",
    "\n",
    "    # Create a map centered around the specified coordinates\n",
    "    world_map = folium.Map(location=[latitude, longitude], zoom_start=zoom, tiles=tiles)\n",
    "\n",
    "    # Add the heatmap layer to the map\n",
    "    HeatMap(heat_data).add_to(world_map)\n",
    "\n",
    "    return world_map\n",
    "\n",
    "\n",
    "# Create a heatmap for the entire US using the create_heatmap function\n",
    "map_us_heatmap = create_heatmap(df_loc.sample(3000), us_cities_coords['Los Angeles']['lat'],\n",
    "                                us_cities_coords['Los Angeles']['lon']\n",
    "                                ,  10)\n",
    "\n",
    "map_us_heatmap"
   ]
  },
  {
   "cell_type": "code",
   "execution_count": null,
   "id": "0c2510a3-1957-41e3-aa86-0bae3cc78bce",
   "metadata": {},
   "outputs": [],
   "source": [
    "def create_accident_map(df_loc):\n",
    "    \"\"\"Generate a map with CircleMarkers for accident locations.\"\"\"\n",
    "    m = folium.Map(location=[39.8283, -98.5795], width=\"100%\", height=\"100%\", zoom_start=4)\n",
    "    \n",
    "    for index, row in df_loc.iterrows():\n",
    "        lat = row['Start_Lat']\n",
    "        lon = row['Start_Lng']\n",
    "        \n",
    "        if not pd.isnull(lat) and not pd.isnull(lon):\n",
    "            folium.CircleMarker(\n",
    "                location=[lat, lon],\n",
    "                radius=1,\n",
    "                color='blue',\n",
    "                fill=True,\n",
    "                fill_color='blue',\n",
    "                fill_opacity=0.6\n",
    "            ).add_to(m)\n",
    "\n",
    "    return m\n",
    "\n",
    "create_accident_map(df_loc)"
   ]
  },
  {
   "cell_type": "code",
   "execution_count": null,
   "id": "ebb98061-1664-410e-b5d2-8fb410799297",
   "metadata": {},
   "outputs": [],
   "source": [
    "import folium\n",
    "import pandas as pd\n",
    "\n",
    "def create_accident_map_with_colors(df_loc):\n",
    "    \"\"\"Generate a map with CircleMarkers for accident locations, colored by severity.\"\"\"\n",
    "    m = folium.Map(location=[39.8283, -98.5795], width=\"100%\", height=\"100%\", zoom_start=4)\n",
    "    \n",
    "    # color scheme for different severity levels \n",
    "    severity_colors = {\n",
    "        1: 'purple',\n",
    "        2: 'green',\n",
    "        3: 'orange',\n",
    "        4: 'red',\n",
    "    }\n",
    "    \n",
    "    for index, row in df_loc.iterrows():\n",
    "        lat = row['Start_Lat']\n",
    "        lon = row['Start_Lng']\n",
    "        severity = row['Severity']\n",
    "        \n",
    "        if not pd.isnull(lat) and not pd.isnull(lon) and severity in severity_colors:\n",
    "            # Get color based on severity\n",
    "            color = severity_colors[severity]\n",
    "            \n",
    "            folium.CircleMarker(\n",
    "                location=[lat, lon],\n",
    "                radius=1,\n",
    "                color=color,\n",
    "                fill=True,\n",
    "                fill_color=color,\n",
    "                fill_opacity=0.6\n",
    "            ).add_to(m)\n",
    "    return m\n",
    "\n",
    "create_accident_map_with_colors(df_loc)"
   ]
  }
 ],
 "metadata": {
  "kernelspec": {
   "display_name": "Python 3 (ipykernel)",
   "language": "python",
   "name": "python3"
  },
  "language_info": {
   "codemirror_mode": {
    "name": "ipython",
    "version": 3
   },
   "file_extension": ".py",
   "mimetype": "text/x-python",
   "name": "python",
   "nbconvert_exporter": "python",
   "pygments_lexer": "ipython3",
   "version": "3.10.3"
  }
 },
 "nbformat": 4,
 "nbformat_minor": 5
}
