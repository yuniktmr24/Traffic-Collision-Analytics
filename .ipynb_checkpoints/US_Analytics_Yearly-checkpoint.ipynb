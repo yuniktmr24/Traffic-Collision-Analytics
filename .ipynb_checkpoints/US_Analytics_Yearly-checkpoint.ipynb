{
 "cells": [
  {
   "cell_type": "code",
   "execution_count": 1,
   "id": "0a753bd0-63f2-4290-aa9e-a8495629542f",
   "metadata": {},
   "outputs": [],
   "source": [
    "import pandas as pd\n",
    "import folium\n",
    "from folium.plugins import MarkerCluster\n",
    "import numpy as np\n",
    "import random"
   ]
  },
  {
   "cell_type": "code",
   "execution_count": null,
   "id": "b004336f-ee93-4ac4-a7c0-282b7d59a7bc",
   "metadata": {},
   "outputs": [],
   "source": [
    "file_path = \"datasets/US_Accidents_March23.csv\"\n",
    "df = pd.read_csv(file_path)\n",
    "\n",
    "print(f\"Total rows: {df.shape[0]}\")"
   ]
  },
  {
   "cell_type": "code",
   "execution_count": null,
   "id": "4947e854-9745-4eac-b54a-2caa50dff88f",
   "metadata": {},
   "outputs": [],
   "source": [
    "df.info()"
   ]
  }
 ],
 "metadata": {
  "kernelspec": {
   "display_name": "Python 3 (ipykernel)",
   "language": "python",
   "name": "python3"
  },
  "language_info": {
   "codemirror_mode": {
    "name": "ipython",
    "version": 3
   },
   "file_extension": ".py",
   "mimetype": "text/x-python",
   "name": "python",
   "nbconvert_exporter": "python",
   "pygments_lexer": "ipython3",
   "version": "3.10.3"
  }
 },
 "nbformat": 4,
 "nbformat_minor": 5
}
